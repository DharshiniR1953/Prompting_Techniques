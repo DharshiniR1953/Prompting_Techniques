{
  "cells": [
    {
      "cell_type": "markdown",
      "metadata": {
        "id": "XrFlS7sDt5kZ"
      },
      "source": [
        "# Basic Prompt Structures\n",
        "\n",
        "## Overview😊\n",
        "\n",
        "This focuses on two fundamental types of prompt structures:\n",
        "1. Single-turn prompts\n",
        "2. Multi-turn prompts (conversations)\n",
        "\n",
        "Tools used : OpenAI's GPT model, LangChain\n",
        "\n",
        "Single-turn prompts are useful for quick, straightforward queries, while multi-turn prompts enable more complex, context-aware interactions.\n",
        "\n",
        "\n",
        "1. **Single-turn Prompts**: One-shot interactions with the language model.\n",
        "2. **Multi-turn Prompts**: Series of interactions that maintain context.\n",
        "3. **Prompt Templates**: Reusable structures for consistent prompting.\n",
        "4. **Conversation Chains**: Maintaining context across multiple interactions."
      ]
    },
    {
      "cell_type": "markdown",
      "metadata": {
        "id": "fLQyz6JBt5kb"
      },
      "source": [
        "## Setup"
      ]
    },
    {
      "cell_type": "code",
      "execution_count": 8,
      "metadata": {
        "id": "owePSWqzt5kb"
      },
      "outputs": [],
      "source": [
        "import os\n",
        "from langchain_openai import ChatOpenAI\n",
        "from langchain.prompts import PromptTemplate\n",
        "from langchain.chains import ConversationChain\n",
        "from langchain.memory import ConversationBufferMemory\n",
        "\n",
        "# Initialize the language model\n",
        "llm = ChatOpenAI(model=\"gpt-4o-mini\",openai_api_key=\"Place your openai api key here😊.\")"
      ]
    },
    {
      "cell_type": "markdown",
      "metadata": {
        "id": "3wC_3_v6t5kc"
      },
      "source": [
        "## 1. Single-turn Prompts\n",
        "\n",
        "Single-turn prompts are one-shot interactions with the language model. They consist of a single input (prompt) and generate a single output (response)."
      ]
    },
    {
      "cell_type": "code",
      "execution_count": 9,
      "metadata": {
        "colab": {
          "base_uri": "https://localhost:8080/"
        },
        "id": "dWQp4B-xt5kc",
        "outputId": "de50f624-c30e-4446-c5c5-ee9ea234918a"
      },
      "outputs": [
        {
          "output_type": "stream",
          "name": "stdout",
          "text": [
            "The three primary colors are red, blue, and yellow. These colors cannot be created by mixing other colors together and serve as the foundation for creating a wide range of other colors through various combinations. In the context of light (additive color mixing), the primary colors are red, green, and blue (RGB).\n"
          ]
        }
      ],
      "source": [
        "single_turn_prompt = \"What are the three primary colors?\"\n",
        "print(llm.invoke(single_turn_prompt).content)"
      ]
    },
    {
      "cell_type": "markdown",
      "metadata": {
        "id": "5dUUUpOEt5kd"
      },
      "source": [
        "Now, let's use a PromptTemplate to create a more structured single-turn prompt:"
      ]
    },
    {
      "cell_type": "code",
      "execution_count": 10,
      "metadata": {
        "colab": {
          "base_uri": "https://localhost:8080/"
        },
        "id": "mW65TOzot5kd",
        "outputId": "d818f5d8-bcaf-4bc2-f16d-94c73f76c489"
      },
      "outputs": [
        {
          "output_type": "stream",
          "name": "stdout",
          "text": [
            "Color theory is a conceptual framework that explains how colors interact, how they can be combined, and how they affect human perception and emotions. It is a crucial aspect of art and design, guiding creators in using color effectively to convey messages, establish moods, and attract attention.\n",
            "\n",
            "The three main components of color theory are:\n",
            "\n",
            "1. **Color Wheel**: A circular diagram that represents the relationships between different colors. The color wheel typically includes primary colors (red, blue, yellow), secondary colors (green, orange, purple), and tertiary colors (colors created by mixing primary and secondary colors).\n",
            "\n",
            "2. **Color Harmony**: This refers to the pleasing arrangement of colors. Various schemes, such as complementary (colors opposite each other on the wheel), analogous (colors next to each other), and triadic (three evenly spaced colors), help in creating visual interest and balance.\n",
            "\n",
            "3. **Color Context**: The way colors interact with one another and how they appear in different contexts. This component considers factors like lighting, surrounding colors, and cultural meanings, which can significantly influence how a color is perceived.\n",
            "\n",
            "These components work together to help artists and designers create visually appealing and effective compositions.\n"
          ]
        }
      ],
      "source": [
        "structured_prompt = PromptTemplate(\n",
        "    input_variables=[\"topic\"],\n",
        "    template=\"Provide a brief explanation of {topic} and list its three main components.\"\n",
        ")\n",
        "\n",
        "chain = structured_prompt | llm\n",
        "print(chain.invoke({\"topic\": \"color theory\"}).content)"
      ]
    },
    {
      "cell_type": "markdown",
      "metadata": {
        "id": "3EjFtldnt5kd"
      },
      "source": [
        "## 2. Multi-turn Prompts (Conversations)\n",
        "\n",
        "Multi-turn prompts involve a series of interactions with the language model, allowing for more complex and context-aware conversations."
      ]
    },
    {
      "cell_type": "code",
      "execution_count": 11,
      "metadata": {
        "colab": {
          "base_uri": "https://localhost:8080/"
        },
        "id": "kgyhQKUat5kd",
        "outputId": "e3716099-2080-4331-ad43-c139c4456569"
      },
      "outputs": [
        {
          "output_type": "stream",
          "name": "stderr",
          "text": [
            "<ipython-input-11-b00a3ff8e9c1>:4: LangChainDeprecationWarning: Please see the migration guide at: https://python.langchain.com/docs/versions/migrating_memory/\n",
            "  memory=ConversationBufferMemory()\n",
            "<ipython-input-11-b00a3ff8e9c1>:1: LangChainDeprecationWarning: The class `ConversationChain` was deprecated in LangChain 0.2.7 and will be removed in 1.0. Use :meth:`~RunnableWithMessageHistory: https://python.langchain.com/v0.2/api_reference/core/runnables/langchain_core.runnables.history.RunnableWithMessageHistory.html` instead.\n",
            "  conversation = ConversationChain(\n"
          ]
        },
        {
          "output_type": "stream",
          "name": "stdout",
          "text": [
            "\n",
            "\n",
            "\u001b[1m> Entering new ConversationChain chain...\u001b[0m\n",
            "Prompt after formatting:\n",
            "\u001b[32;1m\u001b[1;3mThe following is a friendly conversation between a human and an AI. The AI is talkative and provides lots of specific details from its context. If the AI does not know the answer to a question, it truthfully says it does not know.\n",
            "\n",
            "Current conversation:\n",
            "\n",
            "Human: Hi, I'm learning about space. Can you tell me about planets?\n",
            "AI:\u001b[0m\n",
            "\n",
            "\u001b[1m> Finished chain.\u001b[0m\n",
            "Absolutely! There are eight recognized planets in our solar system, and they each have their unique characteristics. \n",
            "\n",
            "1. **Mercury**: This is the closest planet to the Sun and also the smallest in our solar system. It has a very thin atmosphere, which means temperatures can vary dramatically from day to night.\n",
            "\n",
            "2. **Venus**: Often called Earth's \"sister planet\" due to their similar size, Venus has a thick, toxic atmosphere primarily composed of carbon dioxide and sulfuric acid clouds. It’s the hottest planet in our solar system due to a strong greenhouse effect.\n",
            "\n",
            "3. **Earth**: Our home! Earth is the only known planet to support life, thanks to its water-rich environment and a suitable atmosphere. It’s located in the Goldilocks zone, where conditions are just right for life as we know it.\n",
            "\n",
            "4. **Mars**: Known as the Red Planet due to its iron oxide (rust) surface, Mars has the largest volcano and canyon in the solar system, Olympus Mons and Valles Marineris, respectively. It also has polar ice caps and evidence of ancient water flows.\n",
            "\n",
            "5. **Jupiter**: The largest planet in our solar system, Jupiter is a gas giant with a thick atmosphere mainly composed of hydrogen and helium. It’s famous for its Great Red Spot, a massive storm that has been raging for centuries.\n",
            "\n",
            "6. **Saturn**: Best known for its stunning rings, Saturn is also a gas giant and has the second-largest diameter among the planets. Its rings are made of ice and rock particles, and it has many moons, including Titan, which has a dense atmosphere.\n",
            "\n",
            "7. **Uranus**: An ice giant that rotates on its side, Uranus has a blue color due to methane in its atmosphere. It has a unique tilt, making its axial tilt about 98 degrees. This means its poles point almost directly at the Sun!\n",
            "\n",
            "8. **Neptune**: The farthest planet from the Sun, Neptune is also an ice giant and has a deep blue color. It's known for having the strongest winds in the solar system, reaching speeds of over 1,200 miles per hour.\n",
            "\n",
            "Would you like to know more about any specific planet or aspect of space?\n",
            "\n",
            "\n",
            "\u001b[1m> Entering new ConversationChain chain...\u001b[0m\n",
            "Prompt after formatting:\n",
            "\u001b[32;1m\u001b[1;3mThe following is a friendly conversation between a human and an AI. The AI is talkative and provides lots of specific details from its context. If the AI does not know the answer to a question, it truthfully says it does not know.\n",
            "\n",
            "Current conversation:\n",
            "Human: Hi, I'm learning about space. Can you tell me about planets?\n",
            "AI: Absolutely! There are eight recognized planets in our solar system, and they each have their unique characteristics. \n",
            "\n",
            "1. **Mercury**: This is the closest planet to the Sun and also the smallest in our solar system. It has a very thin atmosphere, which means temperatures can vary dramatically from day to night.\n",
            "\n",
            "2. **Venus**: Often called Earth's \"sister planet\" due to their similar size, Venus has a thick, toxic atmosphere primarily composed of carbon dioxide and sulfuric acid clouds. It’s the hottest planet in our solar system due to a strong greenhouse effect.\n",
            "\n",
            "3. **Earth**: Our home! Earth is the only known planet to support life, thanks to its water-rich environment and a suitable atmosphere. It’s located in the Goldilocks zone, where conditions are just right for life as we know it.\n",
            "\n",
            "4. **Mars**: Known as the Red Planet due to its iron oxide (rust) surface, Mars has the largest volcano and canyon in the solar system, Olympus Mons and Valles Marineris, respectively. It also has polar ice caps and evidence of ancient water flows.\n",
            "\n",
            "5. **Jupiter**: The largest planet in our solar system, Jupiter is a gas giant with a thick atmosphere mainly composed of hydrogen and helium. It’s famous for its Great Red Spot, a massive storm that has been raging for centuries.\n",
            "\n",
            "6. **Saturn**: Best known for its stunning rings, Saturn is also a gas giant and has the second-largest diameter among the planets. Its rings are made of ice and rock particles, and it has many moons, including Titan, which has a dense atmosphere.\n",
            "\n",
            "7. **Uranus**: An ice giant that rotates on its side, Uranus has a blue color due to methane in its atmosphere. It has a unique tilt, making its axial tilt about 98 degrees. This means its poles point almost directly at the Sun!\n",
            "\n",
            "8. **Neptune**: The farthest planet from the Sun, Neptune is also an ice giant and has a deep blue color. It's known for having the strongest winds in the solar system, reaching speeds of over 1,200 miles per hour.\n",
            "\n",
            "Would you like to know more about any specific planet or aspect of space?\n",
            "Human: What's the largest planet in our solar system?\n",
            "AI:\u001b[0m\n",
            "\n",
            "\u001b[1m> Finished chain.\u001b[0m\n",
            "The largest planet in our solar system is **Jupiter**. It has a diameter of about 86,881 miles (139,822 kilometers), making it over 11 times wider than Earth! Jupiter is a gas giant primarily composed of hydrogen and helium, and it has a very thick atmosphere. \n",
            "\n",
            "One of its most striking features is the **Great Red Spot**, a massive storm that is larger than Earth and has been ongoing for at least 350 years. Jupiter also has a powerful magnetic field and at least 79 known moons, with the four largest being known as the Galilean moons: Io, Europa, Ganymede, and Callisto. Each of these moons has its own unique characteristics; for example, Europa is believed to have an ocean beneath its icy surface, which makes it a fascinating target for the search for extraterrestrial life.\n",
            "\n",
            "If you want to dive deeper into any specific aspect of Jupiter or any of its moons, just let me know!\n",
            "\n",
            "\n",
            "\u001b[1m> Entering new ConversationChain chain...\u001b[0m\n",
            "Prompt after formatting:\n",
            "\u001b[32;1m\u001b[1;3mThe following is a friendly conversation between a human and an AI. The AI is talkative and provides lots of specific details from its context. If the AI does not know the answer to a question, it truthfully says it does not know.\n",
            "\n",
            "Current conversation:\n",
            "Human: Hi, I'm learning about space. Can you tell me about planets?\n",
            "AI: Absolutely! There are eight recognized planets in our solar system, and they each have their unique characteristics. \n",
            "\n",
            "1. **Mercury**: This is the closest planet to the Sun and also the smallest in our solar system. It has a very thin atmosphere, which means temperatures can vary dramatically from day to night.\n",
            "\n",
            "2. **Venus**: Often called Earth's \"sister planet\" due to their similar size, Venus has a thick, toxic atmosphere primarily composed of carbon dioxide and sulfuric acid clouds. It’s the hottest planet in our solar system due to a strong greenhouse effect.\n",
            "\n",
            "3. **Earth**: Our home! Earth is the only known planet to support life, thanks to its water-rich environment and a suitable atmosphere. It’s located in the Goldilocks zone, where conditions are just right for life as we know it.\n",
            "\n",
            "4. **Mars**: Known as the Red Planet due to its iron oxide (rust) surface, Mars has the largest volcano and canyon in the solar system, Olympus Mons and Valles Marineris, respectively. It also has polar ice caps and evidence of ancient water flows.\n",
            "\n",
            "5. **Jupiter**: The largest planet in our solar system, Jupiter is a gas giant with a thick atmosphere mainly composed of hydrogen and helium. It’s famous for its Great Red Spot, a massive storm that has been raging for centuries.\n",
            "\n",
            "6. **Saturn**: Best known for its stunning rings, Saturn is also a gas giant and has the second-largest diameter among the planets. Its rings are made of ice and rock particles, and it has many moons, including Titan, which has a dense atmosphere.\n",
            "\n",
            "7. **Uranus**: An ice giant that rotates on its side, Uranus has a blue color due to methane in its atmosphere. It has a unique tilt, making its axial tilt about 98 degrees. This means its poles point almost directly at the Sun!\n",
            "\n",
            "8. **Neptune**: The farthest planet from the Sun, Neptune is also an ice giant and has a deep blue color. It's known for having the strongest winds in the solar system, reaching speeds of over 1,200 miles per hour.\n",
            "\n",
            "Would you like to know more about any specific planet or aspect of space?\n",
            "Human: What's the largest planet in our solar system?\n",
            "AI: The largest planet in our solar system is **Jupiter**. It has a diameter of about 86,881 miles (139,822 kilometers), making it over 11 times wider than Earth! Jupiter is a gas giant primarily composed of hydrogen and helium, and it has a very thick atmosphere. \n",
            "\n",
            "One of its most striking features is the **Great Red Spot**, a massive storm that is larger than Earth and has been ongoing for at least 350 years. Jupiter also has a powerful magnetic field and at least 79 known moons, with the four largest being known as the Galilean moons: Io, Europa, Ganymede, and Callisto. Each of these moons has its own unique characteristics; for example, Europa is believed to have an ocean beneath its icy surface, which makes it a fascinating target for the search for extraterrestrial life.\n",
            "\n",
            "If you want to dive deeper into any specific aspect of Jupiter or any of its moons, just let me know!\n",
            "Human: How does its size compare to Earth?\n",
            "AI:\u001b[0m\n",
            "\n",
            "\u001b[1m> Finished chain.\u001b[0m\n",
            "Jupiter is significantly larger than Earth! Specifically, its diameter is about 11 times that of Earth. To put it in perspective, if we look at their dimensions:\n",
            "\n",
            "- **Jupiter's Diameter**: Approximately 86,881 miles (139,822 kilometers)\n",
            "- **Earth's Diameter**: About 7,917 miles (12,742 kilometers)\n",
            "\n",
            "In terms of volume, Jupiter is so vast that you could fit more than 1,300 Earths inside it! Additionally, Jupiter's mass is around 318 times greater than Earth's, which contributes to its powerful gravitational pull. This immense size also reflects in the density of its atmosphere, which is predominantly made up of hydrogen and helium.\n",
            "\n",
            "If you're curious about other comparisons or specific features related to Jupiter or Earth, feel free to ask!\n"
          ]
        }
      ],
      "source": [
        "conversation = ConversationChain(\n",
        "    llm=llm,\n",
        "    verbose=True,\n",
        "    memory=ConversationBufferMemory()\n",
        ")\n",
        "\n",
        "print(conversation.predict(input=\"Hi, I'm learning about space. Can you tell me about planets?\"))\n",
        "print(conversation.predict(input=\"What's the largest planet in our solar system?\"))\n",
        "print(conversation.predict(input=\"How does its size compare to Earth?\"))"
      ]
    },
    {
      "cell_type": "markdown",
      "metadata": {
        "id": "7tki_ZyKt5kd"
      },
      "source": [
        "Let's compare how single-turn and multi-turn prompts handle a series of related questions:"
      ]
    },
    {
      "cell_type": "code",
      "execution_count": null,
      "metadata": {
        "id": "27ca-9e6t5kd",
        "outputId": "df2a898e-ec00-4338-d801-51885fc7a7d0"
      },
      "outputs": [
        {
          "name": "stdout",
          "output_type": "stream",
          "text": [
            "Single-turn responses:\n",
            "Q: What is the capital of France?\n",
            "A: The capital of France is Paris.\n",
            "\n",
            "Q: What is its population?\n",
            "A: Could you please specify which location or entity you are referring to in order to provide the population information?\n",
            "\n",
            "Q: What is the city's most famous landmark?\n",
            "A: To provide an accurate answer, I need to know which city you are referring to. Different cities have different famous landmarks. Could you please specify the city?\n",
            "\n",
            "Multi-turn responses:\n",
            "Q: What is the capital of France?\n",
            "A: The capital of France is Paris! It's known for its iconic landmarks such as the Eiffel Tower, the Louvre Museum, and Notre-Dame Cathedral. Paris is also famous for its rich history, art, and culture. Have you ever been to Paris or is it on your travel list?\n",
            "\n",
            "Q: What is its population?\n",
            "A: As of my last update, the population of Paris is approximately 2.1 million people within the city limits. However, if you consider the larger metropolitan area, that number rises to around 12 million. Paris is a vibrant city with a diverse population and a mix of cultures. Have you ever thought about what it would be like to live in such a bustling city?\n",
            "\n",
            "Q: What is the city's most famous landmark?\n",
            "A: The most famous landmark in Paris is undoubtedly the Eiffel Tower! It was completed in 1889 for the Exposition Universelle (World's Fair) and stands at a height of about 300 meters (984 feet). The Eiffel Tower attracts millions of visitors each year, offering stunning views of the city from its observation decks. It's also beautifully illuminated at night, making it a romantic spot for both locals and tourists. Have you ever seen the Eiffel Tower in pictures or dreamed of visiting it?\n",
            "\n"
          ]
        }
      ],
      "source": [
        "# Single-turn prompts\n",
        "prompts = [\n",
        "    \"What is the capital of France?\",\n",
        "    \"What is its population?\",\n",
        "    \"What is the city's most famous landmark?\"\n",
        "]\n",
        "\n",
        "print(\"Single-turn responses:\")\n",
        "for prompt in prompts:\n",
        "    print(f\"Q: {prompt}\")\n",
        "    print(f\"A: {llm.invoke(prompt).content}\\n\")\n",
        "\n",
        "# Multi-turn prompts\n",
        "print(\"Multi-turn responses:\")\n",
        "conversation = ConversationChain(llm=llm, memory=ConversationBufferMemory())\n",
        "for prompt in prompts:\n",
        "    print(f\"Q: {prompt}\")\n",
        "    print(f\"A: {conversation.predict(input=prompt)}\\n\")"
      ]
    }
  ],
  "metadata": {
    "kernelspec": {
      "display_name": ".venv",
      "language": "python",
      "name": "python3"
    },
    "language_info": {
      "codemirror_mode": {
        "name": "ipython",
        "version": 3
      },
      "file_extension": ".py",
      "mimetype": "text/x-python",
      "name": "python",
      "nbconvert_exporter": "python",
      "pygments_lexer": "ipython3",
      "version": "3.12.0"
    },
    "colab": {
      "provenance": []
    }
  },
  "nbformat": 4,
  "nbformat_minor": 0
}